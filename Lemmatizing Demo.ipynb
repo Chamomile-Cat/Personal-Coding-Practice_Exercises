{
 "cells": [
  {
   "cell_type": "code",
   "execution_count": 2,
   "metadata": {},
   "outputs": [],
   "source": [
    "import nltk\n",
    "from nltk.stem import WordNetLemmatizer\n",
    "from nltk.corpus import wordnet # download dictionary, needs only once"
   ]
  },
  {
   "cell_type": "code",
   "execution_count": 3,
   "metadata": {},
   "outputs": [
    {
     "data": {
      "text/plain": [
       "'be'"
      ]
     },
     "execution_count": 3,
     "metadata": {},
     "output_type": "execute_result"
    }
   ],
   "source": [
    "# Lemmatization Demo, searching a dictionary\n",
    "\n",
    "lemmatizer = WordNetLemmatizer() # instantiate class\n",
    "\n",
    "lemmatizer.lemmatize(\"eating\", pos=wordnet.NOUN) # returns eating\n",
    "lemmatizer.lemmatize(\"eating\", pos=wordnet.VERB) # returns eat\n",
    "\n",
    "lemmatizer.lemmatize(\"children\", pos=wordnet.VERB) # returns children and not an error, despite children not being able to be a verb, \n",
    "\n",
    "lemmatizer.lemmatize(\"cut\", pos=wordnet.VERB) # returns cut, but what if tense was an important part of the task \n",
    "\n",
    "\n",
    "lemmatizer.lemmatize(\"was\", pos=wordnet.VERB) # returns be , works with irregular verbs\n",
    "lemmatizer.lemmatize(\"is\", pos=wordnet.VERB) # returns be, works with irregular verbs"
   ]
  },
  {
   "cell_type": "code",
   "execution_count": 4,
   "metadata": {},
   "outputs": [],
   "source": [
    "def treebank_pos_tag_conversion(treebank_pos_tag): # converts automatic NLTK  POS taggs to input to lemmatizer \n",
    "    if treebank_pos_tag.startswith('J'):\n",
    "        return wordnet.ADJ\n",
    "    if treebank_pos_tag.startswith('V'):\n",
    "        return wordnet.VERB\n",
    "    if treebank_pos_tag.startswith('N'):\n",
    "        return wordnet.NOUN\n",
    "    if treebank_pos_tag.startswith('R'):\n",
    "        return wordnet.ADV\n",
    "    else:\n",
    "        return wordnet.NOUN # why else noun?"
   ]
  },
  {
   "cell_type": "code",
   "execution_count": 5,
   "metadata": {},
   "outputs": [
    {
     "name": "stderr",
     "output_type": "stream",
     "text": [
      "[nltk_data] Downloading package averaged_perceptron_tagger to\n",
      "[nltk_data]     C:\\Users\\seohy\\AppData\\Roaming\\nltk_data...\n",
      "[nltk_data]   Package averaged_perceptron_tagger is already up-to-\n",
      "[nltk_data]       date!\n"
     ]
    },
    {
     "data": {
      "text/plain": [
       "True"
      ]
     },
     "execution_count": 5,
     "metadata": {},
     "output_type": "execute_result"
    }
   ],
   "source": [
    "nltk.download('averaged_perceptron_tagger') # package for automatic POS tagging"
   ]
  },
  {
   "cell_type": "code",
   "execution_count": 6,
   "metadata": {},
   "outputs": [],
   "source": [
    "sentence = \"I appreciate your following\".split()"
   ]
  },
  {
   "cell_type": "code",
   "execution_count": 7,
   "metadata": {},
   "outputs": [],
   "source": [
    "words_and_tags = nltk.pos_tag(sentence) # tag each POS"
   ]
  },
  {
   "cell_type": "code",
   "execution_count": 8,
   "metadata": {},
   "outputs": [
    {
     "name": "stdout",
     "output_type": "stream",
     "text": [
      "I\n",
      "appreciate\n",
      "your\n",
      "follow\n"
     ]
    }
   ],
   "source": [
    "for word, tag in words_and_tags: # each tuple split into two\n",
    "    lemma = lemmatizer.lemmatize(word, pos=treebank_pos_tag_conversion(tag))\n",
    "    print(lemma)"
   ]
  },
  {
   "cell_type": "code",
   "execution_count": 9,
   "metadata": {},
   "outputs": [],
   "source": [
    "sentence2 = \"The cat was following the bird as it flew by\".split()"
   ]
  },
  {
   "cell_type": "code",
   "execution_count": 10,
   "metadata": {},
   "outputs": [
    {
     "name": "stdout",
     "output_type": "stream",
     "text": [
      "The\n",
      "cat\n",
      "be\n",
      "follow\n",
      "the\n",
      "bird\n",
      "a\n",
      "it\n",
      "fly\n",
      "by\n"
     ]
    }
   ],
   "source": [
    "words_and_tags = nltk.pos_tag(sentence2)\n",
    "\n",
    "for word, tag in words_and_tags:\n",
    "    lemma = lemmatizer.lemmatize(word, pos=treebank_pos_tag_conversion(tag))\n",
    "    print(lemma)"
   ]
  }
 ],
 "metadata": {
  "kernelspec": {
   "display_name": "Python 3",
   "language": "python",
   "name": "python3"
  },
  "language_info": {
   "codemirror_mode": {
    "name": "ipython",
    "version": 3
   },
   "file_extension": ".py",
   "mimetype": "text/x-python",
   "name": "python",
   "nbconvert_exporter": "python",
   "pygments_lexer": "ipython3",
   "version": "3.11.1"
  },
  "orig_nbformat": 4
 },
 "nbformat": 4,
 "nbformat_minor": 2
}
