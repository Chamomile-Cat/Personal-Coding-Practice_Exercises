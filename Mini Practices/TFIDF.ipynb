{
 "cells": [
  {
   "cell_type": "code",
   "execution_count": 1,
   "metadata": {},
   "outputs": [
    {
     "ename": "NameError",
     "evalue": "name 'tf' is not defined",
     "output_type": "error",
     "traceback": [
      "\u001b[1;31m---------------------------------------------------------------------------\u001b[0m",
      "\u001b[1;31mNameError\u001b[0m                                 Traceback (most recent call last)",
      "\u001b[1;32mh:\\내 드라이브\\연세대학교\\4학년 2학기\\Udemy NLP Studies\\Personal Coding Practice_Exercises\\TFIDF.ipynb Cell 1\u001b[0m line \u001b[0;36m2\n\u001b[0;32m      <a href='vscode-notebook-cell:/h%3A/%EB%82%B4%20%EB%93%9C%EB%9D%BC%EC%9D%B4%EB%B8%8C/%EC%97%B0%EC%84%B8%EB%8C%80%ED%95%99%EA%B5%90/4%ED%95%99%EB%85%84%202%ED%95%99%EA%B8%B0/Udemy%20NLP%20Studies/Personal%20Coding%20Practice_Exercises/TFIDF.ipynb#W0sZmlsZQ%3D%3D?line=0'>1</a>\u001b[0m \u001b[39mfrom\u001b[39;00m \u001b[39msklearn\u001b[39;00m\u001b[39m.\u001b[39;00m\u001b[39mfeature_extraction\u001b[39;00m\u001b[39m.\u001b[39;00m\u001b[39mtext\u001b[39;00m \u001b[39mimport\u001b[39;00m TfidfVectorizer\n\u001b[1;32m----> <a href='vscode-notebook-cell:/h%3A/%EB%82%B4%20%EB%93%9C%EB%9D%BC%EC%9D%B4%EB%B8%8C/%EC%97%B0%EC%84%B8%EB%8C%80%ED%95%99%EA%B5%90/4%ED%95%99%EB%85%84%202%ED%95%99%EA%B8%B0/Udemy%20NLP%20Studies/Personal%20Coding%20Practice_Exercises/TFIDF.ipynb#W0sZmlsZQ%3D%3D?line=1'>2</a>\u001b[0m tf\n",
      "\u001b[1;31mNameError\u001b[0m: name 'tf' is not defined"
     ]
    }
   ],
   "source": [
    "from sklearn.feature_extraction.text import TfidfVectorizer\n",
    "tfidf = TfidfVectorizer() # instantiate TfidfVectorizer class\n",
    "# Xtrain = tfidf.fit_transform(train_texts) # fit vectorizer onto data, transform into Tfidf matrix\n",
    "# Xtest = tfidf.transform(test_texts) # transform test set using vocabulary form train set"
   ]
  }
 ],
 "metadata": {
  "kernelspec": {
   "display_name": "Python 3",
   "language": "python",
   "name": "python3"
  },
  "language_info": {
   "codemirror_mode": {
    "name": "ipython",
    "version": 3
   },
   "file_extension": ".py",
   "mimetype": "text/x-python",
   "name": "python",
   "nbconvert_exporter": "python",
   "pygments_lexer": "ipython3",
   "version": "3.11.1"
  }
 },
 "nbformat": 4,
 "nbformat_minor": 2
}
